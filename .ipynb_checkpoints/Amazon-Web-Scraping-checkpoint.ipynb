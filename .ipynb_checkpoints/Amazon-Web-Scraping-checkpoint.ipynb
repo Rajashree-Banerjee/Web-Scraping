{
 "cells": [
  {
   "cell_type": "code",
   "execution_count": 3,
   "id": "1a774b07-38ea-4065-ab3f-50d1d5d2514d",
   "metadata": {},
   "outputs": [
    {
     "name": "stdout",
     "output_type": "stream",
     "text": [
      "Collecting selenium\n",
      "  Using cached selenium-4.24.0-py3-none-any.whl.metadata (7.1 kB)\n",
      "Requirement already satisfied: urllib3<3,>=1.26 in c:\\users\\sayan\\documents\\pythonn\\lib\\site-packages (from urllib3[socks]<3,>=1.26->selenium) (2.2.2)\n",
      "Collecting trio~=0.17 (from selenium)\n",
      "  Using cached trio-0.26.2-py3-none-any.whl.metadata (8.6 kB)\n",
      "Collecting trio-websocket~=0.9 (from selenium)\n",
      "  Using cached trio_websocket-0.11.1-py3-none-any.whl.metadata (4.7 kB)\n",
      "Requirement already satisfied: certifi>=2021.10.8 in c:\\users\\sayan\\documents\\pythonn\\lib\\site-packages (from selenium) (2024.8.30)\n",
      "Requirement already satisfied: typing_extensions~=4.9 in c:\\users\\sayan\\documents\\pythonn\\lib\\site-packages (from selenium) (4.11.0)\n",
      "Requirement already satisfied: websocket-client~=1.8 in c:\\users\\sayan\\documents\\pythonn\\lib\\site-packages (from selenium) (1.8.0)\n",
      "Collecting attrs>=23.2.0 (from trio~=0.17->selenium)\n",
      "  Using cached attrs-24.2.0-py3-none-any.whl.metadata (11 kB)\n",
      "Requirement already satisfied: sortedcontainers in c:\\users\\sayan\\documents\\pythonn\\lib\\site-packages (from trio~=0.17->selenium) (2.4.0)\n",
      "Requirement already satisfied: idna in c:\\users\\sayan\\documents\\pythonn\\lib\\site-packages (from trio~=0.17->selenium) (3.7)\n",
      "Collecting outcome (from trio~=0.17->selenium)\n",
      "  Using cached outcome-1.3.0.post0-py2.py3-none-any.whl.metadata (2.6 kB)\n",
      "Requirement already satisfied: sniffio>=1.3.0 in c:\\users\\sayan\\documents\\pythonn\\lib\\site-packages (from trio~=0.17->selenium) (1.3.0)\n",
      "Requirement already satisfied: cffi>=1.14 in c:\\users\\sayan\\documents\\pythonn\\lib\\site-packages (from trio~=0.17->selenium) (1.16.0)\n",
      "Collecting wsproto>=0.14 (from trio-websocket~=0.9->selenium)\n",
      "  Using cached wsproto-1.2.0-py3-none-any.whl.metadata (5.6 kB)\n",
      "Requirement already satisfied: pysocks!=1.5.7,<2.0,>=1.5.6 in c:\\users\\sayan\\documents\\pythonn\\lib\\site-packages (from urllib3[socks]<3,>=1.26->selenium) (1.7.1)\n",
      "Requirement already satisfied: pycparser in c:\\users\\sayan\\documents\\pythonn\\lib\\site-packages (from cffi>=1.14->trio~=0.17->selenium) (2.21)\n",
      "Requirement already satisfied: h11<1,>=0.9.0 in c:\\users\\sayan\\documents\\pythonn\\lib\\site-packages (from wsproto>=0.14->trio-websocket~=0.9->selenium) (0.14.0)\n",
      "Using cached selenium-4.24.0-py3-none-any.whl (9.6 MB)\n",
      "Using cached trio-0.26.2-py3-none-any.whl (475 kB)\n",
      "Using cached trio_websocket-0.11.1-py3-none-any.whl (17 kB)\n",
      "Using cached attrs-24.2.0-py3-none-any.whl (63 kB)\n",
      "Using cached wsproto-1.2.0-py3-none-any.whl (24 kB)\n",
      "Using cached outcome-1.3.0.post0-py2.py3-none-any.whl (10 kB)\n",
      "Installing collected packages: wsproto, attrs, outcome, trio, trio-websocket, selenium\n",
      "  Attempting uninstall: attrs\n",
      "    Found existing installation: attrs 23.1.0\n",
      "    Uninstalling attrs-23.1.0:\n",
      "      Successfully uninstalled attrs-23.1.0\n",
      "Successfully installed attrs-24.2.0 outcome-1.3.0.post0 selenium-4.24.0 trio-0.26.2 trio-websocket-0.11.1 wsproto-1.2.0\n"
     ]
    }
   ],
   "source": [
    "#Scrape Products From Amazon\n",
    "!pip install selenium"
   ]
  },
  {
   "cell_type": "code",
   "execution_count": 5,
   "id": "9a85409b-0f3a-456f-9ad5-c81dcff03e3d",
   "metadata": {},
   "outputs": [],
   "source": [
    "import pandas as pd \n",
    "from selenium import webdriver\n",
    "from bs4 import BeautifulSoup"
   ]
  },
  {
   "cell_type": "code",
   "execution_count": 8,
   "id": "6887a173-3999-4060-8b15-254ee34ce4b6",
   "metadata": {},
   "outputs": [],
   "source": [
    "driver = webdriver.Chrome()"
   ]
  },
  {
   "cell_type": "code",
   "execution_count": 9,
   "id": "47e65ed5-eaf9-4da3-8782-8a0ef42cbaee",
   "metadata": {},
   "outputs": [],
   "source": [
    "driver.get('https://www.amazon.in/s?k=mobiles&crid=2944PM084A0K4&sprefix=mobiles%2Caps%2C271&ref=nb_sb_noss_1')"
   ]
  },
  {
   "cell_type": "code",
   "execution_count": 11,
   "id": "2946ff6f-41e4-47c2-b08b-2cb1c7451c12",
   "metadata": {},
   "outputs": [],
   "source": [
    "html_data = BeautifulSoup(driver.page_source, 'html.parser')"
   ]
  },
  {
   "cell_type": "code",
   "execution_count": 12,
   "id": "62c847c7-6081-4b71-b02f-f69b79c5dad6",
   "metadata": {},
   "outputs": [],
   "source": [
    "No_of_pages = int(html_data.find('span',{'class':'s-pagination-item s-pagination-disabled'}).text)"
   ]
  },
  {
   "cell_type": "code",
   "execution_count": 13,
   "id": "21b37769-20c3-4da0-b4d0-684ab237419d",
   "metadata": {},
   "outputs": [
    {
     "data": {
      "text/plain": [
       "20"
      ]
     },
     "execution_count": 13,
     "metadata": {},
     "output_type": "execute_result"
    }
   ],
   "source": [
    "No_of_pages"
   ]
  },
  {
   "cell_type": "code",
   "execution_count": 14,
   "id": "5d0773b3-7e52-4a43-8112-80c6b0030f56",
   "metadata": {},
   "outputs": [],
   "source": [
    "products = html_data.find_all('div',{'data-component-type':'s-search-result'})"
   ]
  },
  {
   "cell_type": "code",
   "execution_count": 15,
   "id": "20005b24-dc66-43f0-add1-4e5dac0e6c0e",
   "metadata": {},
   "outputs": [],
   "source": [
    "import time"
   ]
  },
  {
   "cell_type": "code",
   "execution_count": 16,
   "id": "a94f07f4-c9e2-4513-910b-89aae3782cdb",
   "metadata": {},
   "outputs": [],
   "source": [
    "from tqdm import tqdm"
   ]
  },
  {
   "cell_type": "code",
   "execution_count": 34,
   "id": "47cedb81-74b2-4770-882b-cfc388951458",
   "metadata": {},
   "outputs": [
    {
     "name": "stderr",
     "output_type": "stream",
     "text": [
      "100%|██████████| 20/20 [02:19<00:00,  6.99s/it]\n"
     ]
    }
   ],
   "source": [
    "titles = []\n",
    "images = []\n",
    "ratings = []\n",
    "prices = []\n",
    "for i in tqdm(range(No_of_pages)):\n",
    "    url = 'https://www.amazon.in/s?k=mobiles&crid=2944PM084A0K4&sprefix=mobiles%2Caps%2C271&ref=nb_sb_noss_1&page='+str(i+1)\n",
    "    driver.get(url)\n",
    "    time.sleep(3)\n",
    "    html_data = BeautifulSoup(driver.page_source, 'html.parser')\n",
    "    products = html_data.find_all('div',{'data-component-type':'s-search-result'})\n",
    "    for product in products:\n",
    "        title = product.find('span',{'class':'a-size-medium a-color-base a-text-normal'}).text\n",
    "        titles.append(title)\n",
    "        img = product.find('img')['src']\n",
    "        images.append(img)\n",
    "        rating = product.find('span',{'class':'a-icon-alt'})\n",
    "        if rating  == None:\n",
    "            rating = 'No Rating'\n",
    "        else:\n",
    "            rating = product.find('span',{'class':'a-icon-alt'}).text\n",
    "        ratings.append(rating)\n",
    "        price =product.find('span',{'class':'a-price-whole'})\n",
    "        if price  == None:\n",
    "            price = 'Not available'\n",
    "        else:\n",
    "            price =product.find('span',{'class':'a-price-whole'}).text\n",
    "       \n",
    "        prices.append(price)"
   ]
  },
  {
   "cell_type": "code",
   "execution_count": 35,
   "id": "2ef66ee3-a388-4c12-a7c5-d139128dfbe2",
   "metadata": {},
   "outputs": [
    {
     "data": {
      "text/plain": [
       "426"
      ]
     },
     "execution_count": 35,
     "metadata": {},
     "output_type": "execute_result"
    }
   ],
   "source": [
    "len(titles)"
   ]
  },
  {
   "cell_type": "code",
   "execution_count": 85,
   "id": "bad2f1b6-868a-40e7-acb1-333138dbf710",
   "metadata": {},
   "outputs": [
    {
     "data": {
      "text/plain": [
       "440"
      ]
     },
     "execution_count": 85,
     "metadata": {},
     "output_type": "execute_result"
    }
   ],
   "source": [
    "22*20"
   ]
  },
  {
   "cell_type": "code",
   "execution_count": 37,
   "id": "2de05a1b-f126-4b2c-8186-998f9ae959fc",
   "metadata": {},
   "outputs": [],
   "source": [
    "data = pd.DataFrame({'titles':titles, 'images':images,'ratings':ratings, 'prices':prices})"
   ]
  },
  {
   "cell_type": "code",
   "execution_count": 38,
   "id": "f7578e3c-12aa-41ae-813f-129680427848",
   "metadata": {},
   "outputs": [
    {
     "data": {
      "text/html": [
       "<div>\n",
       "<style scoped>\n",
       "    .dataframe tbody tr th:only-of-type {\n",
       "        vertical-align: middle;\n",
       "    }\n",
       "\n",
       "    .dataframe tbody tr th {\n",
       "        vertical-align: top;\n",
       "    }\n",
       "\n",
       "    .dataframe thead th {\n",
       "        text-align: right;\n",
       "    }\n",
       "</style>\n",
       "<table border=\"1\" class=\"dataframe\">\n",
       "  <thead>\n",
       "    <tr style=\"text-align: right;\">\n",
       "      <th></th>\n",
       "      <th>titles</th>\n",
       "      <th>images</th>\n",
       "      <th>ratings</th>\n",
       "      <th>prices</th>\n",
       "    </tr>\n",
       "  </thead>\n",
       "  <tbody>\n",
       "    <tr>\n",
       "      <th>0</th>\n",
       "      <td>Lava Blaze Curve 5G (Glass Iron, 8GB LPDDR5 RA...</td>\n",
       "      <td>https://m.media-amazon.com/images/I/61sEoRmsLl...</td>\n",
       "      <td>3.8 out of 5 stars</td>\n",
       "      <td>16,999</td>\n",
       "    </tr>\n",
       "    <tr>\n",
       "      <th>1</th>\n",
       "      <td>OPPO F27 5G (Emerald Green, 8GB RAM, 128GB Sto...</td>\n",
       "      <td>https://m.media-amazon.com/images/I/81CFCXH1tV...</td>\n",
       "      <td>3.5 out of 5 stars</td>\n",
       "      <td>22,999</td>\n",
       "    </tr>\n",
       "    <tr>\n",
       "      <th>2</th>\n",
       "      <td>Redmi 13C (Stardust Black, 4GB RAM, 128GB Stor...</td>\n",
       "      <td>https://m.media-amazon.com/images/I/71d1ytcCnt...</td>\n",
       "      <td>4.1 out of 5 stars</td>\n",
       "      <td>7,698</td>\n",
       "    </tr>\n",
       "    <tr>\n",
       "      <th>3</th>\n",
       "      <td>realme NARZO N61 (Voyage Blue,4GB RAM+64GB Sto...</td>\n",
       "      <td>https://m.media-amazon.com/images/I/71k1NTr2Tn...</td>\n",
       "      <td>3.9 out of 5 stars</td>\n",
       "      <td>7,498</td>\n",
       "    </tr>\n",
       "    <tr>\n",
       "      <th>4</th>\n",
       "      <td>realme NARZO N61 (Voyage Blue,6GB RAM+128GB St...</td>\n",
       "      <td>https://m.media-amazon.com/images/I/71k1NTr2Tn...</td>\n",
       "      <td>3.9 out of 5 stars</td>\n",
       "      <td>8,498</td>\n",
       "    </tr>\n",
       "    <tr>\n",
       "      <th>...</th>\n",
       "      <td>...</td>\n",
       "      <td>...</td>\n",
       "      <td>...</td>\n",
       "      <td>...</td>\n",
       "    </tr>\n",
       "    <tr>\n",
       "      <th>421</th>\n",
       "      <td>Samsung Galaxy F15 5G (Groovy Violet, 4GB RAM,...</td>\n",
       "      <td>https://m.media-amazon.com/images/I/71QnahWRRI...</td>\n",
       "      <td>1.0 out of 5 stars</td>\n",
       "      <td>12,140</td>\n",
       "    </tr>\n",
       "    <tr>\n",
       "      <th>422</th>\n",
       "      <td>XPR3SS 120W Car Charger 4 in 1 Fast Car Phone ...</td>\n",
       "      <td>https://m.media-amazon.com/images/I/71MJkiePEo...</td>\n",
       "      <td>5.0 out of 5 stars</td>\n",
       "      <td>1,975</td>\n",
       "    </tr>\n",
       "    <tr>\n",
       "      <th>423</th>\n",
       "      <td>POPIO Edge To Edge Full Screen Coverage Temper...</td>\n",
       "      <td>https://m.media-amazon.com/images/I/61MWsYDwUI...</td>\n",
       "      <td>4.0 out of 5 stars</td>\n",
       "      <td>299</td>\n",
       "    </tr>\n",
       "    <tr>\n",
       "      <th>424</th>\n",
       "      <td>Redmi Note 13 Pro (Midnight Black, 8GB RAM, 12...</td>\n",
       "      <td>https://m.media-amazon.com/images/I/7169hX0S18...</td>\n",
       "      <td>4.0 out of 5 stars</td>\n",
       "      <td>24,998</td>\n",
       "    </tr>\n",
       "    <tr>\n",
       "      <th>425</th>\n",
       "      <td>MYVN One Plus compatible 80W Charging Cable US...</td>\n",
       "      <td>https://m.media-amazon.com/images/I/71RWgTEUyr...</td>\n",
       "      <td>4.2 out of 5 stars</td>\n",
       "      <td>329</td>\n",
       "    </tr>\n",
       "  </tbody>\n",
       "</table>\n",
       "<p>426 rows × 4 columns</p>\n",
       "</div>"
      ],
      "text/plain": [
       "                                                titles  \\\n",
       "0    Lava Blaze Curve 5G (Glass Iron, 8GB LPDDR5 RA...   \n",
       "1    OPPO F27 5G (Emerald Green, 8GB RAM, 128GB Sto...   \n",
       "2    Redmi 13C (Stardust Black, 4GB RAM, 128GB Stor...   \n",
       "3    realme NARZO N61 (Voyage Blue,4GB RAM+64GB Sto...   \n",
       "4    realme NARZO N61 (Voyage Blue,6GB RAM+128GB St...   \n",
       "..                                                 ...   \n",
       "421  Samsung Galaxy F15 5G (Groovy Violet, 4GB RAM,...   \n",
       "422  XPR3SS 120W Car Charger 4 in 1 Fast Car Phone ...   \n",
       "423  POPIO Edge To Edge Full Screen Coverage Temper...   \n",
       "424  Redmi Note 13 Pro (Midnight Black, 8GB RAM, 12...   \n",
       "425  MYVN One Plus compatible 80W Charging Cable US...   \n",
       "\n",
       "                                                images             ratings  \\\n",
       "0    https://m.media-amazon.com/images/I/61sEoRmsLl...  3.8 out of 5 stars   \n",
       "1    https://m.media-amazon.com/images/I/81CFCXH1tV...  3.5 out of 5 stars   \n",
       "2    https://m.media-amazon.com/images/I/71d1ytcCnt...  4.1 out of 5 stars   \n",
       "3    https://m.media-amazon.com/images/I/71k1NTr2Tn...  3.9 out of 5 stars   \n",
       "4    https://m.media-amazon.com/images/I/71k1NTr2Tn...  3.9 out of 5 stars   \n",
       "..                                                 ...                 ...   \n",
       "421  https://m.media-amazon.com/images/I/71QnahWRRI...  1.0 out of 5 stars   \n",
       "422  https://m.media-amazon.com/images/I/71MJkiePEo...  5.0 out of 5 stars   \n",
       "423  https://m.media-amazon.com/images/I/61MWsYDwUI...  4.0 out of 5 stars   \n",
       "424  https://m.media-amazon.com/images/I/7169hX0S18...  4.0 out of 5 stars   \n",
       "425  https://m.media-amazon.com/images/I/71RWgTEUyr...  4.2 out of 5 stars   \n",
       "\n",
       "     prices  \n",
       "0    16,999  \n",
       "1    22,999  \n",
       "2     7,698  \n",
       "3     7,498  \n",
       "4     8,498  \n",
       "..      ...  \n",
       "421  12,140  \n",
       "422   1,975  \n",
       "423     299  \n",
       "424  24,998  \n",
       "425     329  \n",
       "\n",
       "[426 rows x 4 columns]"
      ]
     },
     "execution_count": 38,
     "metadata": {},
     "output_type": "execute_result"
    }
   ],
   "source": [
    "data"
   ]
  },
  {
   "cell_type": "code",
   "execution_count": 39,
   "id": "861f97d9-3ee7-47c6-a7e9-076ce10c0309",
   "metadata": {},
   "outputs": [],
   "source": [
    "data.to_csv('Mobile Products.csv')"
   ]
  },
  {
   "cell_type": "code",
   "execution_count": null,
   "id": "deef68aa-7c70-4ae7-8604-d19a0c6b9f2f",
   "metadata": {},
   "outputs": [],
   "source": []
  }
 ],
 "metadata": {
  "kernelspec": {
   "display_name": "Python 3 (ipykernel)",
   "language": "python",
   "name": "python3"
  },
  "language_info": {
   "codemirror_mode": {
    "name": "ipython",
    "version": 3
   },
   "file_extension": ".py",
   "mimetype": "text/x-python",
   "name": "python",
   "nbconvert_exporter": "python",
   "pygments_lexer": "ipython3",
   "version": "3.12.4"
  }
 },
 "nbformat": 4,
 "nbformat_minor": 5
}
